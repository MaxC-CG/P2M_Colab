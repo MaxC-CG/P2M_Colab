{
  "nbformat": 4,
  "nbformat_minor": 5,
  "metadata": {
    "kernelspec": {
      "display_name": "Python 3",
      "language": "python",
      "name": "python3"
    },
    "language_info": {
      "codemirror_mode": {
        "name": "ipython",
        "version": 3
      },
      "file_extension": ".py",
      "mimetype": "text/x-python",
      "name": "python",
      "nbconvert_exporter": "python",
      "pygments_lexer": "ipython3",
      "version": "3.8.5"
    },
    "colab": {
      "name": "P2M_Colab.ipynb",
      "provenance": [],
      "machine_shape": "hm"
    },
    "accelerator": "GPU"
  },
  "cells": [
    {
      "cell_type": "markdown",
      "metadata": {
        "id": "IYrJUHTkWepg"
      },
      "source": [
        "# Point2Mesh论文复现 Colab运行版本\n",
        "您可以利用该Notebook在线运行我们的项目并查看结果，无需进行复杂的本地环境配置。"
      ],
      "id": "IYrJUHTkWepg"
    },
    {
      "cell_type": "markdown",
      "metadata": {
        "id": "7S7ENrZyYNsq"
      },
      "source": [
        "### 卸载Colab自带的Pytroch并安装我们需要的版本\n"
      ],
      "id": "7S7ENrZyYNsq"
    },
    {
      "cell_type": "code",
      "metadata": {
        "id": "SWnN_HAZkTnV"
      },
      "source": [
        "!pip uninstall torch\n",
        "!pip install torch==1.5.0 torchvision==0.6.0"
      ],
      "id": "SWnN_HAZkTnV",
      "execution_count": null,
      "outputs": []
    },
    {
      "cell_type": "markdown",
      "metadata": {
        "id": "fbQQ5gSGYZI1"
      },
      "source": [
        "### 克隆我们的项目"
      ],
      "id": "fbQQ5gSGYZI1"
    },
    {
      "cell_type": "code",
      "metadata": {
        "id": "82b1d00b"
      },
      "source": [
        "!git clone https://github.com/MaxC-UI/P2M_Colab.git P2M\n",
        "%cd ./P2M"
      ],
      "id": "82b1d00b",
      "execution_count": null,
      "outputs": []
    },
    {
      "cell_type": "markdown",
      "metadata": {
        "id": "ytXSN_k5YctW"
      },
      "source": [
        "### 编译生成Watertight Manifold程序"
      ],
      "id": "ytXSN_k5YctW"
    },
    {
      "cell_type": "code",
      "metadata": {
        "id": "sSm41LRk87fm"
      },
      "source": [
        "!git clone --recursive -j8 git://github.com/hjwdzh/Manifold PWM\n",
        "%cd ./PWM\n",
        "!mkdir build\n",
        "%cd ./build\n",
        "!cmake .. -DCMAKE_BUILD_TYPE=Release\n",
        "!make"
      ],
      "id": "sSm41LRk87fm",
      "execution_count": null,
      "outputs": []
    },
    {
      "cell_type": "markdown",
      "metadata": {
        "id": "ls9qNZ-zYiE_"
      },
      "source": [
        "### 安装Pytroch 3D"
      ],
      "id": "ls9qNZ-zYiE_"
    },
    {
      "cell_type": "code",
      "metadata": {
        "id": "HYLXAvSEmWLv"
      },
      "source": [
        "%cd /content/P2M/Pytorch3D-0.2.0/\n",
        "!pip install -e .\n",
        "%cd .."
      ],
      "id": "HYLXAvSEmWLv",
      "execution_count": null,
      "outputs": []
    },
    {
      "cell_type": "markdown",
      "metadata": {
        "id": "Cp-4HriaYpB9"
      },
      "source": [
        "### 运行测试脚本，结果会输出在./output/bull/中"
      ],
      "id": "Cp-4HriaYpB9"
    },
    {
      "cell_type": "code",
      "metadata": {
        "id": "TSGSp9f-oeZ7"
      },
      "source": [
        "!chmod -R 777 *\n",
        "!python main.py --input-pc ./data/bull.ply \\\n",
        "--initial-mesh ./data/bull_initmesh.obj \\\n",
        "--save-path ./output/bull/ \\\n",
        "--pools 0.1 0.0 0.0 0.0 \\\n",
        "--iterations 20 \\\n",
        "--upsamp 10 \\\n",
        "--export-interval 10"
      ],
      "id": "TSGSp9f-oeZ7",
      "execution_count": null,
      "outputs": []
    },
    {
      "cell_type": "markdown",
      "metadata": {
        "id": "ITH9cenGYwxT"
      },
      "source": [
        "## 测试您自己的模型\n",
        "您需要将您的obj模型或者ply点云文件上传至./data文件夹中\n",
        "\n",
        "### 生成点云(如果上传的是点云则跳过这一步)\n",
        "将./process_data/get_ply.py脚本移至P2M文件夹下。\n",
        "修改参数为您的输入输出文件路径并运行。\n",
        "* --i -表示输入的模型\n",
        "* --samples-num -采样点云中点的数量\n",
        "* --o -表示输出的原始点云文件\n",
        "* --o_noise -表示包含噪声的点云文件"
      ],
      "id": "ITH9cenGYwxT"
    },
    {
      "cell_type": "code",
      "metadata": {
        "id": "lFtmwSv5YkXZ"
      },
      "source": [
        "!python get_ply.py --i /data/xxxx.obj --samples-num 20000 --o /data/xxxx.ply --o-noise /data/xxxx_noise.ply"
      ],
      "id": "lFtmwSv5YkXZ",
      "execution_count": null,
      "outputs": []
    },
    {
      "cell_type": "markdown",
      "metadata": {
        "id": "wuBtO4hPZI48"
      },
      "source": [
        "### 生成凸包\n",
        "将./process_data/convex_hull.py脚本移至P2M文件夹下。\n",
        "修改参数为您的输入输出文件路径并运行。\n",
        "先安装相关库："
      ],
      "id": "wuBtO4hPZI48"
    },
    {
      "cell_type": "code",
      "metadata": {
        "id": "34eAGu4ZiGuG"
      },
      "source": [
        "!pip install trimesh"
      ],
      "id": "34eAGu4ZiGuG",
      "execution_count": null,
      "outputs": []
    },
    {
      "cell_type": "markdown",
      "metadata": {
        "id": "mfApQ-LfiGZ4"
      },
      "source": [
        "* --i -表示输入点云文件\n",
        "* --faces-num -表示生成凸包的面数\n",
        "* --o -表示输出的凸包模型\n",
        "* --manifold-path -表示manifold的路径"
      ],
      "id": "mfApQ-LfiGZ4"
    },
    {
      "cell_type": "code",
      "metadata": {
        "id": "bKvk0ErFZIhR"
      },
      "source": [
        "!python convex_hull.py --i ./data/xxxx.ply --faces-num 1000 --o xxxx_hull.obj --manifold-path ./PWM/build/"
      ],
      "id": "bKvk0ErFZIhR",
      "execution_count": null,
      "outputs": []
    },
    {
      "cell_type": "markdown",
      "metadata": {
        "id": "06ZkysyRZL-y"
      },
      "source": [
        "### 测试运行\n",
        "根据您的需要增减或修改相应的参数以运行测试。"
      ],
      "id": "06ZkysyRZL-y"
    },
    {
      "cell_type": "markdown",
      "metadata": {
        "id": "V81FG7ZUZS2Q"
      },
      "source": [
        "### 参数说明\n",
        "* --save-path 保存文件的路径\n",
        "* --input-pc 输入的点云文件的路径\n",
        "* --initial-mesh 输入的凸包模型的路径\n",
        "* --torch-seed 模型的随机种子(默认5)\n",
        "* --samples 采样点云中点的数量(默认25000)\n",
        "* --begin-samples 初始采样点云中点的数量(默认15000)\n",
        "* --iterations 迭代次数(默认6000)\n",
        "* --upsamp 每隔多少次迭代进行上采样(默认1000)\n",
        "* --max-faces 上采样最大面数(默认10000)\n",
        "* --faces-to-part 多少面数后进行分割(默认8000)\n",
        "* --lr 学习率(默认1.1e-4)\n",
        "* --convs 卷积层大小(默认[16, 32, 64, 64, 128])\n",
        "* --pools 池化层大小(默认[0.0, 0.0, 0.0, 0.0])\n",
        "* --gpu 使用的GPU(默认0)\n",
        "* --manifold-res 模型上采样的分辨率(默认100000)\n",
        "* --export-interval 每隔多少次迭代输出一次结果(默认50)"
      ],
      "id": "V81FG7ZUZS2Q"
    },
    {
      "cell_type": "code",
      "metadata": {
        "id": "d4V7RgxvZRKe"
      },
      "source": [
        "!python main.py --input-pc ./data/xxxx.ply \\\n",
        "--initial-mesh ./data/xxxx.obj \\\n",
        "--save-path ./output/xxxx/ \\\n",
        "--pools 0.1 0.0 0.0 0.0 \\\n",
        "--iterations 20 \\\n",
        "--upsamp 10 \\\n",
        "--export-interval 10"
      ],
      "id": "d4V7RgxvZRKe",
      "execution_count": null,
      "outputs": []
    }
  ]
}