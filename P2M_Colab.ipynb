{
 "cells": [
  {
   "cell_type": "markdown",
   "id": "IYrJUHTkWepg",
   "metadata": {
    "id": "IYrJUHTkWepg"
   },
   "source": [
    "# Point2Mesh论文复现 Colab运行版本\n",
    "您可以利用该Notebook在线运行我们的项目并查看结果，无需进行复杂的本地环境配置。"
   ]
  },
  {
   "cell_type": "markdown",
   "id": "7S7ENrZyYNsq",
   "metadata": {
    "id": "7S7ENrZyYNsq"
   },
   "source": [
    "### 卸载Colab自带的Pytroch并安装我们需要的版本\n"
   ]
  },
  {
   "cell_type": "code",
   "execution_count": null,
   "id": "SWnN_HAZkTnV",
   "metadata": {
    "id": "SWnN_HAZkTnV"
   },
   "outputs": [],
   "source": [
    "!pip uninstall torch\n",
    "!pip install torch==1.5.0 torchvision==0.6.0"
   ]
  },
  {
   "cell_type": "markdown",
   "id": "fbQQ5gSGYZI1",
   "metadata": {
    "id": "fbQQ5gSGYZI1"
   },
   "source": [
    "### 克隆我们的项目"
   ]
  },
  {
   "cell_type": "code",
   "execution_count": null,
   "id": "82b1d00b",
   "metadata": {
    "id": "82b1d00b"
   },
   "outputs": [],
   "source": [
    "!git clone https://github.com/MaxC-UI/P2M_Colab.git P2M\n",
    "%cd ./P2M"
   ]
  },
  {
   "cell_type": "markdown",
   "id": "ytXSN_k5YctW",
   "metadata": {
    "id": "ytXSN_k5YctW"
   },
   "source": [
    "### 编译生成Watertight Manifold程序"
   ]
  },
  {
   "cell_type": "code",
   "execution_count": null,
   "id": "sSm41LRk87fm",
   "metadata": {
    "id": "sSm41LRk87fm"
   },
   "outputs": [],
   "source": [
    "!git clone --recursive -j8 git://github.com/hjwdzh/Manifold PWM\n",
    "%cd ./PWM\n",
    "!mkdir build\n",
    "%cd ./build\n",
    "!cmake .. -DCMAKE_BUILD_TYPE=Release\n",
    "!make"
   ]
  },
  {
   "cell_type": "markdown",
   "id": "ls9qNZ-zYiE_",
   "metadata": {
    "id": "ls9qNZ-zYiE_"
   },
   "source": [
    "### 安装Pytroch 3D"
   ]
  },
  {
   "cell_type": "code",
   "execution_count": null,
   "id": "HYLXAvSEmWLv",
   "metadata": {
    "id": "HYLXAvSEmWLv"
   },
   "outputs": [],
   "source": [
    "%cd /content/P2M/Pytorch3D-0.2.0/\n",
    "!pip install -e .\n",
    "%cd .."
   ]
  },
  {
   "cell_type": "markdown",
   "id": "Cp-4HriaYpB9",
   "metadata": {
    "id": "Cp-4HriaYpB9"
   },
   "source": [
    "### 运行测试脚本，结果会输出在./output/bull/中"
   ]
  },
  {
   "cell_type": "code",
   "execution_count": null,
   "id": "TSGSp9f-oeZ7",
   "metadata": {
    "id": "TSGSp9f-oeZ7"
   },
   "outputs": [],
   "source": [
    "!chmod -R 777 *\n",
    "!python main.py --input-pc ./data/bull.ply \\\n",
    "--initial-mesh ./data/bull_initmesh.obj \\\n",
    "--save-path ./output/bull/ \\\n",
    "--pools 0.1 0.0 0.0 0.0 \\\n",
    "--iterations 3000 \\\n",
    "--upsamp 1000 \\\n",
    "--export-interval 100"
   ]
  },
  {
   "cell_type": "markdown",
   "id": "ITH9cenGYwxT",
   "metadata": {
    "id": "ITH9cenGYwxT"
   },
   "source": [
    "## 测试您自己的模型\n",
    "您需要将您的obj模型或者ply点云文件上传至./data文件夹中\n",
    "\n",
    "### 生成点云(如果上传的是点云则跳过这一步)\n",
    "将./process_data/get_ply.py脚本移至P2M文件夹下。\n",
    "修改参数为您的输入输出文件路径并运行。\n",
    "* --i -表示输入的模型\n",
    "* --samples-num -采样点云中点的数量\n",
    "* --o -表示输出的原始点云文件\n",
    "* --o_noise -表示包含噪声的点云文件"
   ]
  },
  {
   "cell_type": "code",
   "execution_count": null,
   "id": "lFtmwSv5YkXZ",
   "metadata": {
    "id": "lFtmwSv5YkXZ"
   },
   "outputs": [],
   "source": [
    "!python get_ply.py --i /data/xxxx.obj --samples-num 20000 --o /data/xxxx.ply --o-noise /data/xxxx_noise.ply"
   ]
  },
  {
   "cell_type": "markdown",
   "id": "wuBtO4hPZI48",
   "metadata": {
    "id": "wuBtO4hPZI48"
   },
   "source": [
    "### 生成凸包\n",
    "将./process_data/convex_hull.py脚本移至P2M文件夹下。\n",
    "修改参数为您的输入输出文件路径并运行。\n",
    "先安装相关库："
   ]
  },
  {
   "cell_type": "code",
   "execution_count": null,
   "id": "34eAGu4ZiGuG",
   "metadata": {
    "id": "34eAGu4ZiGuG"
   },
   "outputs": [],
   "source": [
    "!pip install trimesh"
   ]
  },
  {
   "cell_type": "markdown",
   "id": "mfApQ-LfiGZ4",
   "metadata": {
    "id": "mfApQ-LfiGZ4"
   },
   "source": [
    "* --i -表示输入点云文件\n",
    "* --faces-num -表示生成凸包的面数\n",
    "* --o -表示输出的凸包模型\n",
    "* --manifold-path -表示manifold的路径"
   ]
  },
  {
   "cell_type": "code",
   "execution_count": null,
   "id": "bKvk0ErFZIhR",
   "metadata": {
    "id": "bKvk0ErFZIhR"
   },
   "outputs": [],
   "source": [
    "!python convex_hull.py --i ./data/xxxx.ply --faces-num 1000 --o xxxx_hull.obj --manifold-path ./PWM/build/"
   ]
  },
  {
   "cell_type": "markdown",
   "id": "06ZkysyRZL-y",
   "metadata": {
    "id": "06ZkysyRZL-y"
   },
   "source": [
    "### 测试运行\n",
    "根据您的需要增减或修改相应的参数以运行测试。"
   ]
  },
  {
   "cell_type": "markdown",
   "id": "V81FG7ZUZS2Q",
   "metadata": {
    "id": "V81FG7ZUZS2Q"
   },
   "source": [
    "### 参数说明\n",
    "* --save-path 保存文件的路径\n",
    "* --input-pc 输入的点云文件的路径\n",
    "* --initial-mesh 输入的凸包模型的路径\n",
    "* --torch-seed 模型的随机种子(默认5)\n",
    "* --samples 采样点云中点的数量(默认25000)\n",
    "* --begin-samples 初始采样点云中点的数量(默认15000)\n",
    "* --iterations 迭代次数(默认6000)\n",
    "* --upsamp 每隔多少次迭代进行上采样(默认1000)\n",
    "* --max-faces 上采样最大面数(默认10000)\n",
    "* --faces-to-part 多少面数后进行分割(默认8000)\n",
    "* --lr 学习率(默认1.1e-4)\n",
    "* --convs 卷积层大小(默认[16, 32, 64, 64, 128])\n",
    "* --pools 池化层大小(默认[0.0, 0.0, 0.0, 0.0])\n",
    "* --gpu 使用的GPU(默认0)\n",
    "* --manifold-res 模型上采样的分辨率(默认100000)\n",
    "* --export-interval 每隔多少次迭代输出一次结果(默认50)"
   ]
  },
  {
   "cell_type": "code",
   "execution_count": null,
   "id": "d4V7RgxvZRKe",
   "metadata": {
    "id": "d4V7RgxvZRKe"
   },
   "outputs": [],
   "source": [
    "!python main.py --input-pc ./data/xxxx.ply \\\n",
    "--initial-mesh ./data/xxxx.obj \\\n",
    "--save-path ./output/xxxx/ \\\n",
    "--pools 0.1 0.0 0.0 0.0 \\\n",
    "--iterations 20 \\\n",
    "--upsamp 10 \\\n",
    "--export-interval 10"
   ]
  }
 ],
 "metadata": {
  "accelerator": "GPU",
  "colab": {
   "machine_shape": "hm",
   "name": "P2M_Colab.ipynb",
   "provenance": []
  },
  "kernelspec": {
   "display_name": "Python 3",
   "language": "python",
   "name": "python3"
  },
  "language_info": {
   "codemirror_mode": {
    "name": "ipython",
    "version": 3
   },
   "file_extension": ".py",
   "mimetype": "text/x-python",
   "name": "python",
   "nbconvert_exporter": "python",
   "pygments_lexer": "ipython3",
   "version": "3.8.5"
  }
 },
 "nbformat": 4,
 "nbformat_minor": 5
}
