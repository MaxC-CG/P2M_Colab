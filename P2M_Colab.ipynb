{
  "nbformat": 4,
  "nbformat_minor": 5,
  "metadata": {
    "kernelspec": {
      "display_name": "Python 3",
      "language": "python",
      "name": "python3"
    },
    "language_info": {
      "codemirror_mode": {
        "name": "ipython",
        "version": 3
      },
      "file_extension": ".py",
      "mimetype": "text/x-python",
      "name": "python",
      "nbconvert_exporter": "python",
      "pygments_lexer": "ipython3",
      "version": "3.8.5"
    },
    "colab": {
      "name": "P2M_Colab.ipynb",
      "provenance": [],
      "machine_shape": "hm"
    },
    "accelerator": "GPU"
  },
  "cells": [
    {
      "cell_type": "code",
      "metadata": {
        "id": "SWnN_HAZkTnV"
      },
      "source": [
        "!pip uninstall torch\n",
        "!pip install torch==1.5.0 torchvision==0.6.0"
      ],
      "id": "SWnN_HAZkTnV",
      "execution_count": null,
      "outputs": []
    },
    {
      "cell_type": "code",
      "metadata": {
        "id": "82b1d00b"
      },
      "source": [
        "!git clone https://github.com/MaxC-UI/P2M_Colab.git P2M\n",
        "%cd ./P2M"
      ],
      "id": "82b1d00b",
      "execution_count": null,
      "outputs": []
    },
    {
      "cell_type": "code",
      "metadata": {
        "id": "sSm41LRk87fm"
      },
      "source": [
        "!git clone --recursive -j8 git://github.com/hjwdzh/Manifold PWM\n",
        "%cd ./PWM\n",
        "!mkdir build\n",
        "%cd ./build\n",
        "!cmake .. -DCMAKE_BUILD_TYPE=Release\n",
        "!make"
      ],
      "id": "sSm41LRk87fm",
      "execution_count": null,
      "outputs": []
    },
    {
      "cell_type": "code",
      "metadata": {
        "id": "HYLXAvSEmWLv"
      },
      "source": [
        "%cd /content/P2M/Pytorch3D-0.2.0/\n",
        "!pip install -e .\n",
        "%cd .."
      ],
      "id": "HYLXAvSEmWLv",
      "execution_count": null,
      "outputs": []
    },
    {
      "cell_type": "code",
      "metadata": {
        "id": "TSGSp9f-oeZ7"
      },
      "source": [
        "!chmod -R 777 *\n",
        "!python main.py --input-pc ./data/bull.ply \\\n",
        "--initial-mesh ./data/bull_initmesh.obj \\\n",
        "--save-path ./output/bull/ \\\n",
        "--pools 0.1 0.0 0.0 0.0 \\\n",
        "--iterations 20 \\\n",
        "--upsamp 10 \\\n",
        "--export-interval 10"
      ],
      "id": "TSGSp9f-oeZ7",
      "execution_count": null,
      "outputs": []
    }
  ]
}